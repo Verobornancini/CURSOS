{
 "cells": [
  {
   "cell_type": "markdown",
   "metadata": {},
   "source": [
    "# Conexión a Twitter"
   ]
  },
  {
   "cell_type": "code",
   "execution_count": 1,
   "metadata": {},
   "outputs": [],
   "source": [
    "#Se importa la librería tweepy\n",
    "import tweepy"
   ]
  },
  {
   "cell_type": "code",
   "execution_count": 2,
   "metadata": {},
   "outputs": [],
   "source": [
    "#Se importa sleep, datetime, TextBlob y matplotlib\n",
    "from time import sleep\n",
    "from datetime import datetime\n",
    "from textblob import TextBlob \n",
    "import matplotlib.pyplot as plt \n",
    "%matplotlib inline"
   ]
  },
  {
   "cell_type": "code",
   "execution_count": 3,
   "metadata": {},
   "outputs": [],
   "source": [
    "#Se define las variables para el acceso al API de twitter\n",
    "consumer_key = \n",
    "consumer_secret = \n",
    "access_token = \n",
    "access_token_secret = "
   ]
  },
  {
   "cell_type": "code",
   "execution_count": 4,
   "metadata": {},
   "outputs": [],
   "source": [
    "#Se autentica en twitter\n",
    "auth = tweepy.OAuthHandler(consumer_key, consumer_secret)\n",
    "auth.set_access_token(access_token, access_token_secret)\n",
    "api = tweepy.API(auth)"
   ]
  },
  {
   "cell_type": "code",
   "execution_count": 5,
   "metadata": {},
   "outputs": [
    {
     "name": "stdout",
     "output_type": "stream",
     "text": [
      "Iván Pinar Domínguez\n"
     ]
    }
   ],
   "source": [
    "#se verifica que el usuario conectado en twitter es de uno\n",
    "print(api.me().name)"
   ]
  },
  {
   "cell_type": "code",
   "execution_count": null,
   "metadata": {},
   "outputs": [],
   "source": []
  },
  {
   "cell_type": "markdown",
   "metadata": {},
   "source": [
    "# Insertar término de búsqueda para el Análisis de Sentimiento"
   ]
  },
  {
   "cell_type": "code",
   "execution_count": 40,
   "metadata": {},
   "outputs": [
    {
     "name": "stdout",
     "output_type": "stream",
     "text": [
      "Buscar: Vodafone\n"
     ]
    }
   ],
   "source": [
    "#Se pregunta por la palabra a preguntar\n",
    "palabra = input(\"Buscar: \")"
   ]
  },
  {
   "cell_type": "code",
   "execution_count": 31,
   "metadata": {},
   "outputs": [
    {
     "name": "stdout",
     "output_type": "stream",
     "text": [
      "Número de tweets a capturar: 500\n"
     ]
    }
   ],
   "source": [
    "#Se define la cantidad de tweets a capturar\n",
    "numero_de_Tweets = int(input(u\"Número de tweets a capturar: \"))"
   ]
  },
  {
   "cell_type": "code",
   "execution_count": 32,
   "metadata": {},
   "outputs": [
    {
     "name": "stdout",
     "output_type": "stream",
     "text": [
      "Idioma [es/en]:es\n"
     ]
    }
   ],
   "source": [
    "#Se define el idioma de los tweets a analizar\n",
    "lenguaje = input(\"Idioma [es/en]:\")"
   ]
  },
  {
   "cell_type": "markdown",
   "metadata": {},
   "source": [
    "# Análisis de Sentimiento con TextBlob"
   ]
  },
  {
   "cell_type": "code",
   "execution_count": 33,
   "metadata": {},
   "outputs": [],
   "source": [
    "def ObtenerTweets(palabra,num_tweets,lenguaje):\n",
    "    #Se define las listas que capturan la popularidad\n",
    "    polaridad_list = []\n",
    "    numeros_list = []\n",
    "    numero = 1\n",
    "    for tweet in tweepy.Cursor(api.search, palabra, lang=lenguaje).items(num_tweets):\n",
    "        try:\n",
    "            #Se toma el texto, se hace el analisis de sentimiento\n",
    "            #y se agrega el resultado a las listas\n",
    "            analisis = TextBlob(tweet.text)\n",
    "            analisis = analisis.sentiment\n",
    "            polaridad = analisis.polarity\n",
    "            polaridad_list.append(polaridad)\n",
    "            numeros_list.append(numero)\n",
    "            numero = numero + 1\n",
    "\n",
    "        except tweepy.TweepError as e:\n",
    "            print(e.reason)\n",
    "\n",
    "        except StopIteration:\n",
    "            break\n",
    "    return (numeros_list,polaridad_list,numero)\n"
   ]
  },
  {
   "cell_type": "markdown",
   "metadata": {},
   "source": [
    "# Visualizar Sentimiento y Categorizar"
   ]
  },
  {
   "cell_type": "code",
   "execution_count": 34,
   "metadata": {},
   "outputs": [],
   "source": [
    "def GraficarDatos(numeros_list,polaridad_list,numero):\n",
    "    axes = plt.gca()\n",
    "    axes.set_ylim([-1, 2])\n",
    "    \n",
    "    plt.scatter(numeros_list, polaridad_list)\n",
    "    polaridadPromedio = (sum(polaridad_list))/(len(polaridad_list))\n",
    "    polaridadPromedio = \"{0:.2f}%\".format(polaridadPromedio * 100)\n",
    "    time  = datetime.now().strftime(\"A : %H:%M\\n El: %m-%d-%y\")\n",
    "    plt.text(0, 1.25, \n",
    "             \"Sentimiento promedio:  \" + str(polaridadPromedio) + \"\\n\" + time, \n",
    "             fontsize=12, \n",
    "             bbox = dict(facecolor='none', \n",
    "                         edgecolor='black', \n",
    "                         boxstyle='square, pad = 1'))\n",
    "    \n",
    "    plt.title(\"Sentimientos sobre \" + palabra + \" en twitter\")\n",
    "    plt.xlabel(\"Numero de tweets\")\n",
    "    plt.ylabel(\"Polaridad Sentimiento\")\n",
    "    plt.show()\n",
    "    "
   ]
  },
  {
   "cell_type": "code",
   "execution_count": 41,
   "metadata": {},
   "outputs": [],
   "source": [
    "numeros_list,polaridad_list,numero = ObtenerTweets(palabra,numero_de_Tweets,lenguaje)"
   ]
  },
  {
   "cell_type": "code",
   "execution_count": 42,
   "metadata": {},
   "outputs": [
    {
     "data": {
      "image/png": "[encoded data removed]",
      "text/plain": [
       "<Figure size 432x288 with 1 Axes>"
      ]
     },
     "metadata": {
      "needs_background": "light"
     },
     "output_type": "display_data"
    }
   ],
   "source": [
    "GraficarDatos(numeros_list,polaridad_list,numero)"
   ]
  },
  {
   "cell_type": "code",
   "execution_count": null,
   "metadata": {},
   "outputs": [],
   "source": []
  }
 ],
 "metadata": {
  "kernelspec": {
   "display_name": "Python 3",
   "language": "python",
   "name": "python3"
  },
  "language_info": {
   "codemirror_mode": {
    "name": "ipython",
    "version": 3
   },
   "file_extension": ".py",
   "mimetype": "text/x-python",
   "name": "python",
   "nbconvert_exporter": "python",
   "pygments_lexer": "ipython3",
   "version": "3.7.3"
  }
 },
 "nbformat": 4,
 "nbformat_minor": 2
}
