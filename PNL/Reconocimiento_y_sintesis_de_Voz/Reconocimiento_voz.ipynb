{
 "cells": [
  {
   "cell_type": "code",
   "execution_count": 13,
   "metadata": {},
   "outputs": [],
   "source": [
    "import speech_recognition as sr"
   ]
  },
  {
   "cell_type": "markdown",
   "metadata": {},
   "source": [
    "# 1 Crear instancia de Reconomiento"
   ]
  },
  {
   "cell_type": "code",
   "execution_count": 14,
   "metadata": {},
   "outputs": [],
   "source": [
    "r = sr.Recognizer()"
   ]
  },
  {
   "cell_type": "markdown",
   "metadata": {},
   "source": [
    "# 2 Seleccionar audio "
   ]
  },
  {
   "cell_type": "code",
   "execution_count": 4,
   "metadata": {},
   "outputs": [],
   "source": [
    "# Si audio desde fichero\n",
    "#audio_file = sr.AudioFile('audio_ejemplo.wav') #El fichero debe estar en la ruta del intérprete de Python\n",
    "#with audio_file as source:\n",
    "#    r.adjust_for_ambient_noise(source) # Calibración si el fichero tiene ruido de fondo\n",
    "#    audio = r.record(source) # si solo se quiere una porción del audio: audio = r.record(source, offset=4, duration=3)"
   ]
  },
  {
   "cell_type": "code",
   "execution_count": 15,
   "metadata": {},
   "outputs": [],
   "source": [
    "# Si audio desde micrófono\n",
    "mic = sr.Microphone()"
   ]
  },
  {
   "cell_type": "code",
   "execution_count": 16,
   "metadata": {},
   "outputs": [
    {
     "data": {
      "text/plain": [
       "['Asignador de sonido Microsoft - Input',\n",
       " 'Microphone (Realtek Audio)',\n",
       " 'Asignador de sonido Microsoft - Output',\n",
       " 'Speakers / Headphones (Realtek ',\n",
       " 'Controlador primario de captura de sonido',\n",
       " 'Microphone (Realtek Audio)',\n",
       " 'Controlador primario de sonido',\n",
       " 'Speakers / Headphones (Realtek Audio)',\n",
       " 'Realtek ASIO',\n",
       " 'Speakers / Headphones (Realtek Audio)',\n",
       " 'Microphone (Realtek Audio)',\n",
       " 'Mezcla estéreo (Realtek HD Audio Stereo input)',\n",
       " 'Micrófono (Realtek HD Audio Mic input)',\n",
       " 'Speakers (Realtek HD Audio output)',\n",
       " 'Auriculares con micrófono (@System32\\\\drivers\\\\bthhfenum.sys,#2;%1 Hands-Free%0\\r\\n;(GENIUS HS-120BT))',\n",
       " 'Auriculares con micrófono (@System32\\\\drivers\\\\bthhfenum.sys,#2;%1 Hands-Free%0\\r\\n;(GENIUS HS-120BT))']"
      ]
     },
     "execution_count": 16,
     "metadata": {},
     "output_type": "execute_result"
    }
   ],
   "source": [
    "# Si se necesita seleccionar un micrófono que no sea el de por defecto\n",
    "sr.Microphone.list_microphone_names()"
   ]
  },
  {
   "cell_type": "code",
   "execution_count": 17,
   "metadata": {},
   "outputs": [],
   "source": [
    "mic = sr.Microphone(device_index=1) # 6 sería el micrófono 6 del listado"
   ]
  },
  {
   "cell_type": "code",
   "execution_count": 18,
   "metadata": {},
   "outputs": [],
   "source": [
    "with mic as source:\n",
    "    r.adjust_for_ambient_noise(source) # Calibración si el audio tiene ruido de fondo\n",
    "    audio = r.listen(source)"
   ]
  },
  {
   "cell_type": "markdown",
   "metadata": {},
   "source": [
    "# 3 Reconocer audio a través de API"
   ]
  },
  {
   "cell_type": "code",
   "execution_count": 19,
   "metadata": {},
   "outputs": [
    {
     "data": {
      "text/plain": [
       "'hola estamos en el curso de procesamiento de lenguaje natural'"
      ]
     },
     "execution_count": 19,
     "metadata": {},
     "output_type": "execute_result"
    }
   ],
   "source": [
    "r.recognize_google(audio, language='es-ES') # Definimos la API a utilizar como método de reconocimiento, la única que no necesita login es la de Google (debemos estar conectados a internet)"
   ]
  },
  {
   "cell_type": "code",
   "execution_count": null,
   "metadata": {},
   "outputs": [],
   "source": []
  },
  {
   "cell_type": "code",
   "execution_count": null,
   "metadata": {},
   "outputs": [],
   "source": []
  }
 ],
 "metadata": {
  "kernelspec": {
   "display_name": "Python 3",
   "language": "python",
   "name": "python3"
  },
  "language_info": {
   "codemirror_mode": {
    "name": "ipython",
    "version": 3
   },
   "file_extension": ".py",
   "mimetype": "text/x-python",
   "name": "python",
   "nbconvert_exporter": "python",
   "pygments_lexer": "ipython3",
   "version": "3.7.3"
  }
 },
 "nbformat": 4,
 "nbformat_minor": 2
}
