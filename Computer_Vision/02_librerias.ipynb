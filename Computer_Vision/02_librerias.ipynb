{
 "cells": [
  {
   "cell_type": "markdown",
   "metadata": {
    "id": "taVq85S6bwlL"
   },
   "source": [
    "## Curso-Taller: Aprendizaje Automático e Imágenes en Python "
   ]
  },
  {
   "cell_type": "markdown",
   "metadata": {
    "id": "GNu4EJtFbwlm"
   },
   "source": [
    "### Qué es una librería?\n",
    "** En informática, una librería, se refiere a una biblioteca o un conjunto de implementaciones funciones, codificadas en un lenguaje de programación, que realizan una serie de tareas específicas y se incluyen o importan en el programa evitando tener que reescribir esos códigos.\n",
    "\n",
    "** La forma de \"llamar\", \"cargar\" o importar una libreria xxxxxx es la siguiente: \n",
    "* import xxxxxx as xx \n",
    "* donde xx es el nombre corto que le asignamos para poder llamar sus funciones, por ejemplo:\n"
   ]
  },
  {
   "cell_type": "markdown",
   "metadata": {
    "id": "PuXxmuURbwlm"
   },
   "source": [
    "## Librería numpy\n",
    "* Sirve para realizar operaciones matriciales en Python. "
   ]
  },
  {
   "cell_type": "markdown",
   "metadata": {},
   "source": [
    "Algunas funciones numpy para arreglos - Alias np   \n",
    "np.sum()   \n",
    "np.mean()   \n",
    "np.median()    \n",
    "np.max()   \n",
    "np.min()   \n",
    "np.std()   \n",
    "np.array()   \n",
    "np.arange()     \n",
    "np.float32()   \n",
    "np.int32()   \n",
    "np.concatenate()   \n",
    "np.unique() #quita los elementos repetidos     \n",
    "np.round()     "
   ]
  },
  {
   "cell_type": "markdown",
   "metadata": {
    "id": "VnubM0Jibwln"
   },
   "source": [
    "### Vectores :  1D-array\n",
    "Ejemplo:\n",
    "Diferenciar lista de vector.\n",
    "\n",
    "Sea el vector  $v = (25, 8, 20, 75)$ \n",
    "\n",
    "Mostrar el vector, su tipo, la longitud de v, máximo y mínimo valor de v\n"
   ]
  },
  {
   "cell_type": "code",
   "execution_count": 2,
   "metadata": {
    "id": "_cb8SBbAbwln",
    "outputId": "e720173b-d89e-4aea-a83b-4f1a87a5af37"
   },
   "outputs": [
    {
     "name": "stdout",
     "output_type": "stream",
     "text": [
      "[25.0, 8.0, 20.0, 75.0]\n",
      "<class 'list'>\n",
      "\n"
     ]
    }
   ],
   "source": [
    "import numpy as np\n",
    "ve=[25., 8., 20., 75.] \n",
    "print(ve)\n",
    "print(type(ve))\n",
    "print()"
   ]
  },
  {
   "cell_type": "code",
   "execution_count": 3,
   "metadata": {},
   "outputs": [
    {
     "name": "stdout",
     "output_type": "stream",
     "text": [
      "v= [25.  8. 20. 75.]\n",
      "tipo de v: <class 'numpy.ndarray'>\n",
      "longitud de v: 4\n"
     ]
    }
   ],
   "source": [
    "v=np.array(ve) # Transformo la lista en vector para poder operar\n",
    "print(\"v=\", v) # El vector no lleva comas separando los elementos\n",
    "print(\"tipo de v:\", type(v)) # el tipo es numpy.ndarray\n",
    "print(\"longitud de v:\", len(v))"
   ]
  },
  {
   "cell_type": "code",
   "execution_count": 5,
   "metadata": {},
   "outputs": [
    {
     "name": "stdout",
     "output_type": "stream",
     "text": [
      "máximo de v: 75.0 o 75.0\n",
      "mínimo de v: 8.0 o 8.0\n"
     ]
    }
   ],
   "source": [
    "# máximo y mínimo valor de v\n",
    "print(\"máximo de v:\", v.max(), \"o\",np.max(v)) #función de numpy.ndarray: np.max()\n",
    "\n",
    "print(\"mínimo de v:\", v.min(), \"o\",np.min(v))"
   ]
  },
  {
   "cell_type": "markdown",
   "metadata": {},
   "source": [
    "### Operaciones entre vectores"
   ]
  },
  {
   "cell_type": "code",
   "execution_count": 6,
   "metadata": {},
   "outputs": [
    {
     "name": "stdout",
     "output_type": "stream",
     "text": [
      "vector u [ 5  9 10 -1]\n",
      "vector v [-2  0  5  4]\n"
     ]
    }
   ],
   "source": [
    "import numpy as np\n",
    "u = np.array([5, 9,  10, -1]) #Transforma la lista en vector\n",
    "v = np.array([-2, 0, 5, 4]) #Transforma la lista en vector\n",
    "\n",
    "print(\"vector u\", u)\n",
    "print(\"vector v\",v)"
   ]
  },
  {
   "cell_type": "code",
   "execution_count": 8,
   "metadata": {
    "id": "4oSUjMJLbwln"
   },
   "outputs": [
    {
     "name": "stdout",
     "output_type": "stream",
     "text": [
      "suma de vectores= [ 3  9 15  3]\n",
      "multiplicación de vector= [ 6 18 30  6]\n",
      "resta a cada elemento del vector [ 3 15 27  3]\n"
     ]
    }
   ],
   "source": [
    "z=u+v\n",
    "print(\"suma de vectores=\",z)\n",
    "\n",
    "w=2*z\n",
    "print(\"multiplicación de vector=\",w)\n",
    "\n",
    "t=w-3\n",
    "print(\"resta a cada elemento del vector\",t)\n"
   ]
  },
  {
   "cell_type": "code",
   "execution_count": 14,
   "metadata": {
    "id": "8wTEBqbabwlo",
    "outputId": "6d8d088a-a047-450f-c135-c1f7ae3f448e"
   },
   "outputs": [
    {
     "name": "stdout",
     "output_type": "stream",
     "text": [
      "x= [0. 0. 0. 0.]\n",
      "u= [1. 1. 1. 1.]\n",
      "t= [7 7 7 7]\n",
      "s= [ 5  8 11 14]\n"
     ]
    }
   ],
   "source": [
    "import numpy as np\n",
    "\n",
    "x=np.zeros(4)\n",
    "u=np.ones(4)\n",
    "t=np.full(4,7)\n",
    "s=np.arange(5,16,3)\n",
    "\n",
    "print(\"x=\",x)\n",
    "print(\"u=\",u)\n",
    "print(\"t=\",t)\n",
    "print(\"s=\",s)"
   ]
  },
  {
   "cell_type": "code",
   "execution_count": 19,
   "metadata": {},
   "outputs": [
    {
     "name": "stdout",
     "output_type": "stream",
     "text": [
      "[ 5  8 11 14] <class 'numpy.ndarray'> <class 'numpy.int32'>\n",
      "[ 5.  8. 11. 14.] <class 'numpy.ndarray'> <class 'numpy.float32'>\n"
     ]
    }
   ],
   "source": [
    "print(s,type(s),type(s[0]))\n",
    "# Cambio del tipo de dato\n",
    "r=s.astype(np.float32) #cambiamos el tipo de datos al vector s a float32\n",
    "print(r,type(r), type(r[0]))"
   ]
  },
  {
   "cell_type": "code",
   "execution_count": null,
   "metadata": {
    "id": "N1lL2VaObwlo",
    "outputId": "b6f2dfe0-fcd9-47ef-d646-c0e0f1763f57"
   },
   "outputs": [
    {
     "name": "stdout",
     "output_type": "stream",
     "text": [
      "Tipo con range(n):  <class 'range'>\n",
      "Convierto la lista con np.array(l): \n",
      "<class 'numpy.ndarray'>\n",
      "Tipo con np.array(range(n))\n",
      "<class 'numpy.ndarray'>\n",
      "Tipo con np.arange(4)\n",
      "<class 'numpy.ndarray'>\n",
      "Dos formas de generar el vector [0 1 2 3] np.array(range(4)) y np.arange(4)\n",
      "[0 1 2 3] es igual que [0 1 2 3]\n"
     ]
    }
   ],
   "source": [
    "#Generar un vector. \n",
    "#Puede ser a partir de una lista con np.array(lista)\n",
    "#Así como range(n) genera lista, al que puedo convertir en vector con  np.(range(n))\n",
    "# np.arange(n) genera directamente el vector\n",
    "\n",
    "r=range(4) #Es lista\n",
    "print(\"Tipo con range(n): \",type(r))\n",
    "\n",
    "rr=np.array(r) #Genera vector a partir de lista con la librería numpy\n",
    "print(\"Convierto la lista con np.array(l): \")\n",
    "print(type(rr))\n",
    "\n",
    "print(\"Tipo con np.array(range(n))\")\n",
    "print(type(np.array(range(4))))\n",
    "#print()\n",
    "\n",
    "print(\"Tipo con np.arange(4)\")\n",
    "print(type(np.arange(4)))\n",
    "#print()\n",
    "\n",
    "print(\"Dos formas de generar el vector [0 1 2 3] np.array(range(4)) y np.arange(4)\")\n",
    "print(np.array(range(4)), \"es igual que\", np.arange(4))\n"
   ]
  },
  {
   "cell_type": "code",
   "execution_count": 20,
   "metadata": {
    "id": "3yyLYyCqbwlo"
   },
   "outputs": [
    {
     "name": "stdout",
     "output_type": "stream",
     "text": [
      "[ 2  5  8 11 14 17 20]\n",
      "El máximo es\n",
      "20\n",
      "\n",
      "elemento posición 6\n",
      "17\n",
      "\n",
      "Vector recortado segundo a cuarto elemento [ 5  8 11]\n",
      "\n",
      "El último elemento del vector recortado es 11\n",
      "El ultimo elemento del vector recortado es 11\n",
      "\n",
      "Los cuadrados del vector recortado son: [ 25  64 121]\n",
      "\n",
      "Los cuadrados de los elementos del vector anterior en tipo flotante son:\n",
      "25.0\n",
      "64.0\n",
      "121.0\n",
      "\n"
     ]
    }
   ],
   "source": [
    "import numpy as np\n",
    "\n",
    "s=np.arange(2,21,3)\n",
    "\n",
    "print(s)\n",
    "\n",
    "print(\"El máximo es\")    \n",
    "print(max(s))\n",
    "print()\n",
    "\n",
    "print(\"elemento posición 6\")\n",
    "print(s[5])\n",
    "print()\n",
    "\n",
    "r=s[1:4]\n",
    "print(\"Vector recortado segundo a cuarto elemento\",r)\n",
    "print()\n",
    "\n",
    "print(\"El último elemento del vector recortado es\",r[len(r)-1] )\n",
    "print(\"El ultimo elemento del vector recortado es\", r[-1])\n",
    "print()\n",
    "\n",
    "print(\"Los cuadrados del vector recortado son:\", r*r)\n",
    "print()\n",
    "\n",
    "#Cambio el tipo de dato del vector recortado a float32\n",
    "t=r.astype(np.float32)\n",
    "\n",
    "print('Los cuadrados de los elementos del vector anterior en tipo flotante son:')\n",
    "for i in range(len(t)):\n",
    "    t[i]=t[i]*t[i]\n",
    "    print(t[i])\n",
    "print()\n"
   ]
  },
  {
   "cell_type": "code",
   "execution_count": null,
   "metadata": {
    "id": "FztPl1k9bwlp",
    "outputId": "9b864822-7268-4fbb-be71-aeae042d66e3"
   },
   "outputs": [
    {
     "name": "stdout",
     "output_type": "stream",
     "text": [
      "[[0. 0.]\n",
      " [0. 0.]]\n",
      "[[1. 1.]]\n",
      "[[7 7]\n",
      " [7 7]]\n",
      "[[1. 0.]\n",
      " [0. 1.]]\n",
      "[[0.4717957  0.84389914]\n",
      " [0.75157825 0.79631096]]\n",
      "[[4 4 0 3 2]\n",
      " [3 3 4 1 0]\n",
      " [2 0 3 3 4]\n",
      " [1 2 0 0 0]\n",
      " [0 2 2 4 3]]\n"
     ]
    }
   ],
   "source": [
    "#Arrays multidimensionales\n",
    "#Consideraremos bidimensionales\n",
    "\n",
    "import numpy as np\n",
    "\n",
    "a = np.zeros((2,2))   # Bidimensional 2x2\n",
    "print(a)              # Muestra \"[[ 0.  0.]\n",
    "                      #          [ 0.  0.]]\"\n",
    "\n",
    "b = np.ones((1,2))    # Bidimensional: 1x2\n",
    "print(b)              # Muestra \"[[ 1.  1.]]\"\n",
    "\n",
    "c = np.full((2,2), 7)  # Un array de elementos iguales\n",
    "print(c)               # Muestra \"[[ 7.  7.]\n",
    "                       #          [ 7.  7.]]\"\n",
    "\n",
    "d = np.eye(2)         # Crea la matriz identidad 2x2\n",
    "print(d)              # Muestra \"[[ 1.  0.]\n",
    "                      #          [ 0.  1.]]\"\n",
    "\n",
    "e = np.random.random((2,2))  # Crea un array 2x2 de elementos aleatorios\n",
    "print(e)                     # por ejemplo \"[[ 0.91940167  0.08143941]\n",
    "                             #               [ 0.68744134  0.87236687]]\"\n",
    "\n",
    "# La función np.random.* tiene variantes (*)\n",
    "# numpy.random.random(size)¶\n",
    "# Return random floats in the half-open interval [0.0, 1.0).\n",
    "\n",
    "print(np.random.randint(5,size=(5, 5)))\n"
   ]
  },
  {
   "cell_type": "code",
   "execution_count": 21,
   "metadata": {
    "id": "qxcjHmmebwlp"
   },
   "outputs": [
    {
     "name": "stdout",
     "output_type": "stream",
     "text": [
      "La dimensión de la matriz es  (3, 4)\n",
      "La cantidad de elementos de la matriz es 12\n",
      "\n",
      "[[ 1  2  3  4]\n",
      " [ 5  6  7  8]\n",
      " [ 9 10 11 12]]\n",
      "\n",
      "[[2 3]\n",
      " [6 7]]\n",
      "\n",
      "2\n",
      "77\n",
      "\n",
      "[[77  3]\n",
      " [ 6  7]]\n",
      "\n",
      "[[ 1 25  3  4]\n",
      " [ 5  6  7  8]\n",
      " [ 9 10 11 12]]\n",
      "[[25  3]\n",
      " [ 6  7]]\n",
      "[1 0 5]\n",
      "[1 9 5]\n"
     ]
    }
   ],
   "source": [
    "import numpy as np\n",
    "\n",
    "# Crear un array 3x4 con los siguientes números\n",
    "# [[ 1  2  3  4]\n",
    "#  [ 5  6  7  8]\n",
    "#  [ 9 10 11 12]]\n",
    "\n",
    "a = np.array([[1,2,3,4], [5,6,7,8], [9,10,11,12]])\n",
    "\n",
    "print(\"La dimensión de la matriz es \",a.shape) # Da la dimensión de a\n",
    "print(\"La cantidad de elementos de la matriz es\",a.size)# Da la cantidad de elementos de a\n",
    "print()\n",
    "# Extraer el subarray que contenga las primeras dos filas y las columnas 2 y 3\n",
    "\n",
    "# [[2 3]\n",
    "#  [6 7]]\n",
    "b = a[:2, 1:3] #siempre los intervalos son abiertos a derecha\n",
    "print(a)\n",
    "print()\n",
    "print(b)\n",
    "print()\n",
    "# Mostrar un dato del array original, primera fila, segunda columna\n",
    "\n",
    "print(a[0, 1])   # Muestra \"2\"\n",
    "\n",
    "b[0, 0] = 77     # b[0, 0] Ojo! este b modifica también el dato correspondiente en a!\n",
    "print(a[0, 1])   # Muestra \"77\"\n",
    "print()\n",
    "print(b)\n",
    "print()\n",
    "\n",
    "#Siempre que obtenemos una submatriz de otra mediante asignación con =\n",
    "#Si modificamos un dato en una modificamos en la otra.\n",
    "a[0,1]=25\n",
    "print(a)\n",
    "print(b)\n",
    "\n",
    "#Para no modificar ambas listas se usa el comando copy.\n",
    "vector_viejo=np.array([1, 0, 5])\n",
    "vector_nuevo=np.copy(vector_viejo)\n",
    "vector_nuevo[1]=9\n",
    "print(vector_viejo)\n",
    "print(vector_nuevo)"
   ]
  },
  {
   "cell_type": "code",
   "execution_count": null,
   "metadata": {
    "id": "ineEzDc2bwlp"
   },
   "outputs": [],
   "source": [
    "import numpy as np\n",
    "\n",
    "# Crear matriz dimensiones (3,4)\n",
    "# [[ 1  2  3  4]\n",
    "#  [ 5  6  7  8]\n",
    "#  [ 9 10 11 12]]\n",
    "\n",
    "a = np.array([[1,2,3,4], [5,6,7,8], [9,10,11,12]]) #Ingreso como lista y transforma con np.array(l)\n",
    "print(a)\n",
    "print()\n",
    "\n",
    "row_r1 = a[1, :]    # Segunda fila. Todas las columnas\n",
    "row_r2 = a[1:2, :]  # Segunda fila. Todas las columnas\n",
    "\n",
    "\n",
    "print(row_r1, row_r1.shape)  # Muestra \"5 6 7 8] (4,)\"\n",
    "print()\n",
    "print(row_r2, row_r2.shape)  # Muestra \"[[5 6 7 8]] (1, 4)\"\n",
    "print()\n",
    "\n",
    "# Ejemplo de acceso a las columnas\n",
    "col_r1 = a[:, 1]\n",
    "col_r2 = a[:, 1:2]\n",
    "print(col_r1, col_r1.shape)  # Muestra \"[ 2  6 10] (3,)\"\n",
    "print(col_r2, col_r2.shape)  # Muestra \"[[ 2]\n",
    "                             #          [ 6]\n",
    "                             #          [10]] (3, 1)\"\n",
    "#Cuál es la diferencia?\n",
    "\n",
    "#Para mostrar un elemento\n",
    "print(a[1,3])\n",
    "\n",
    "#Concatenado de matrices\n",
    "#help (np.concatenate)\n",
    "DobleAhorizontal=np.concatenate((a,a),axis=1)\n",
    "print(\"Primer caso de concatenado, axis=1\\n\",DobleAhorizontal)\n",
    "\n",
    "DobleAvertical=np.concatenate((a,a),axis=0)\n",
    "print(\"\\nSegundo caso de Concatenado, axis=0\\n\",DobleAvertical)"
   ]
  },
  {
   "cell_type": "code",
   "execution_count": null,
   "metadata": {
    "id": "lG4fx_Fdbwlp"
   },
   "outputs": [],
   "source": [
    "import numpy as np\n",
    "\n",
    "#Detectar los elementos que cumplen una condición en un array\n",
    "\n",
    "a = np.array([[1,2], [3, 4], [5, 6]])\n",
    "\n",
    "bool_idx = (a > 2)   # Encuentra los elementos mayores que 2\n",
    "                     # Devuelve una matriz de la misma dimensión que a con valores booleanos\n",
    "                     \n",
    "print(bool_idx)      # Muestra \"[[False False]\n",
    "                     #          [ True  True]\n",
    "                     #          [ True  True]]\"\n",
    "\n",
    "\n",
    "\n",
    "print(a[bool_idx])  # muestra \"[3 4 5 6]\"\n",
    "\n",
    "#Se puede lograr en una sola sentencia\n",
    "print(a[a > 2])     # Muestra \"[3 4 5 6]\""
   ]
  },
  {
   "cell_type": "code",
   "execution_count": null,
   "metadata": {
    "id": "57sfYWy7bwlp"
   },
   "outputs": [],
   "source": [
    "import numpy as np\n",
    "\n",
    "x = np.array([1, 2])   # numpy elige el tipo de dato\n",
    "print(x.dtype)         # En este caso \"int64\"\n",
    "\n",
    "x = np.array([1.0, 2.0])   # numpy elige el tipo de dato\n",
    "print(x.dtype)             # en este caso \"float64\"\n",
    "\n",
    "x = np.array([1, 2], dtype=np.int64)   # fuerza el tipo de dato a int64\n",
    "print(x.dtype)                         # muestra \"int64\""
   ]
  },
  {
   "cell_type": "code",
   "execution_count": null,
   "metadata": {
    "id": "WtPUbh0Pbwlq"
   },
   "outputs": [],
   "source": [
    "#Operaciones con matrices en python\n",
    "import numpy as np\n",
    "\n",
    "x = np.array([[1,2],[3,4]], dtype=np.float64)\n",
    "y = np.array([[5,6],[7,8]], dtype=np.float64)\n",
    "\n",
    "# Suma elemento a elemento\n",
    "# [[ 6.0  8.0]\n",
    "#  [10.0 12.0]]\n",
    "\n",
    "print(x + y)\n",
    "print(np.add(x, y))\n",
    "print()\n",
    "\n",
    "# Diferencia elemento a elemento\n",
    "# [[-4.0 -4.0]\n",
    "#  [-4.0 -4.0]]\n",
    "\n",
    "print(x - y)\n",
    "print(np.subtract(x, y))\n",
    "print()\n",
    "\n",
    "# Producto elemento a elemento\n",
    "# [[ 5.0 12.0]\n",
    "#  [21.0 32.0]]\n",
    "print(x * y)\n",
    "print(np.multiply(x, y))\n",
    "print()\n",
    "\n",
    "# División elemento a elemento\n",
    "# [[ 0.2         0.33333333]\n",
    "#  [ 0.42857143  0.5       ]]\n",
    "print(x / y)\n",
    "print(np.divide(x, y))\n",
    "print()\n",
    "\n",
    "# Raíz cuadrada, elemento a elemento\n",
    "# [[ 1.          1.41421356]\n",
    "#  [ 1.73205081  2.        ]]\n",
    "print(np.sqrt(x))\n"
   ]
  },
  {
   "cell_type": "code",
   "execution_count": null,
   "metadata": {
    "id": "YgSKLIr5bwlq",
    "outputId": "32dfff62-3a0c-4da4-e0c9-295ce81f15ad"
   },
   "outputs": [
    {
     "name": "stdout",
     "output_type": "stream",
     "text": [
      "219\n",
      "219\n",
      "219\n",
      "[29 67]\n",
      "[29 67]\n",
      "[[19 22]\n",
      " [43 50]]\n",
      "[[19 22]\n",
      " [43 50]]\n",
      "0\n"
     ]
    }
   ],
   "source": [
    "import numpy as np\n",
    "\n",
    "x = np.array([[1,2],[3,4]])\n",
    "y = np.array([[5,6],[7,8]])\n",
    "\n",
    "v = np.array([9,10])\n",
    "w = np.array([11, 12])\n",
    "\n",
    "# Producto interno de vectores \n",
    "print(v.dot(w))\n",
    "print(np.dot(v, w))\n",
    "print(v@w)\n",
    "\n",
    "# Producto interno de vectores\n",
    "print(x.dot(v))\n",
    "print(np.dot(x, v))\n",
    "\n",
    "# Producto interno de vectores\n",
    "print(x.dot(y))\n",
    "print(np.dot(x, y))\n",
    "\n",
    "v1 = np.array([3, 4])\n",
    "v2 = np.array([4, -3])\n",
    "print(v1 @ v2) #Qué indica el resultado?"
   ]
  },
  {
   "cell_type": "code",
   "execution_count": null,
   "metadata": {
    "id": "UdFVxc6Bbwlq"
   },
   "outputs": [],
   "source": [
    "import numpy as np\n",
    "\n",
    "x = np.array([[1,2],[3,4]])\n",
    "\n",
    "print(np.sum(x))  # Suma todos los elementos \"10\"\n",
    "print(np.sum(x, axis=0))  # Suma los elementos de las columnas; \"[4 6]\"\n",
    "print(np.sum(x, axis=1))  # Suma los elementos por fila \"[3 7]\""
   ]
  },
  {
   "cell_type": "code",
   "execution_count": null,
   "metadata": {
    "id": "G0VVDj6Mbwlq"
   },
   "outputs": [],
   "source": [
    "import numpy as np\n",
    "\n",
    "x = np.array([[1,2], [3,4]])\n",
    "print(x)  \n",
    "#Transpuesta\n",
    "print(x.T)  # \"[[1 3]\n",
    "            #  [2 4]]\"\n",
    "# o bien\n",
    "print(np.transpose(x))\n",
    "print()\n",
    "\n",
    "# Pedir la transpuesta de un array de una dimensión no hace nada\n",
    "v = np.array([1,2,3])\n",
    "print(v)    # \"[1 2 3]\"\n",
    "print(v.T)  # \"[1 2 3]\""
   ]
  },
  {
   "cell_type": "code",
   "execution_count": null,
   "metadata": {
    "id": "-pIKSAmCbwlq"
   },
   "outputs": [],
   "source": [
    "import numpy as np\n",
    "#Producto de matrices\n",
    "\n",
    "x = np.array([[1,2], [3,4]])\n",
    "print(x)  \n",
    "y= np.array(([[1,2,1], [3,4,2]]))\n",
    "print(y)\n",
    "print()\n",
    "\n",
    "v = x@y\n",
    "print(v)  \n",
    "#Si hacemos\n",
    "#w=y@x\n",
    "#print(w)\n",
    "#nos da error y nos explica la causa"
   ]
  },
  {
   "cell_type": "code",
   "execution_count": null,
   "metadata": {
    "id": "w2k4Zvy7bwlr"
   },
   "outputs": [],
   "source": [
    "import numpy as np\n",
    "#Calculo el determinante\n",
    "A = np.array([[4, 7],\n",
    "              [2, 6]])\n",
    "print(np.linalg.det(A))\n",
    "print()\n",
    "print(np.linalg.inv(A))\n",
    "print()\n",
    "print(np.transpose(A))"
   ]
  },
  {
   "cell_type": "code",
   "execution_count": null,
   "metadata": {
    "id": "CS19UxwWbwlr"
   },
   "outputs": [],
   "source": [
    "#https://docs.scipy.org/doc/numpy/reference/"
   ]
  },
  {
   "cell_type": "markdown",
   "metadata": {
    "id": "pWsigBtpbwlr"
   },
   "source": [
    "### Librería matplotlib - Gráficos"
   ]
  },
  {
   "cell_type": "markdown",
   "metadata": {
    "id": "6KK9SVF3bwlr"
   },
   "source": [
    "* Tabla Símbolo- Color\n",
    "\n",
    "“b”\tAzul\n",
    "\n",
    "“g”\tVerde\n",
    "\n",
    "“r”\tRojo\n",
    "\n",
    "“c”\tCian\n",
    "\n",
    "“m”\tMagenta\n",
    "\n",
    "“y”\tAmarillo\n",
    "\n",
    "“k”\tNegro\n",
    "\n",
    "“w”\tBlanco\n",
    "\n",
    "* Tabla Marcas y líneas\n",
    "\n",
    "* Símbolo-\tDescripción\n",
    "“-“\tLínea continua\n",
    "\n",
    "“–”\tLínea a trazos\n",
    "\n",
    "“-.”\tLínea a puntos y rayas\n",
    "\n",
    "“:”\tLínea punteada\n",
    "\n",
    "“.”\tSímbolo punto\n",
    "\n",
    "“,”\tSímbolo pixel\n",
    "\n",
    "“o”\tSímbolo círculo relleno\n",
    "\n",
    "“v”\tSímbolo triángulo hacia abajo\n",
    "\n",
    "“^”\tSímbolo triángulo hacia arriba\n",
    "\n",
    "“<”\tSímbolo triángulo hacia la izquierda\n",
    "\n",
    "“>”\tSímbolo triángulo hacia la derecha\n",
    "\n",
    "“s”\tSímbolo cuadrado\n",
    "\n",
    "“p”\tSímbolo pentágono\n",
    "\n",
    "“*”\tSímbolo estrella\n",
    "\n",
    "“+”\tSímbolo cruz\n",
    "\n",
    "“x”\tSímbolo X\n",
    "\n",
    "“D”\tSímbolo diamante\n",
    "\n",
    "“d”\tSímbolo diamante delgado"
   ]
  },
  {
   "cell_type": "code",
   "execution_count": null,
   "metadata": {
    "id": "aOKtRcHkbwlr"
   },
   "outputs": [],
   "source": [
    "import matplotlib.pyplot as plt\n",
    "import numpy as np\n",
    "x=np.linspace(0,10,10)\n",
    "x2=x*x\n",
    "x3=x**3\n",
    "plt.plot(x, x,'b.', x, x2,'rd', x, x3,'g^')\n",
    "\n",
    "plt.show()\n"
   ]
  },
  {
   "cell_type": "code",
   "execution_count": null,
   "metadata": {
    "id": "UF7qwIpvbwlr"
   },
   "outputs": [],
   "source": [
    "#Se puede cambiar el intervalo horizontal con xlim\n",
    "#Se puede cambiar el intervalo vertical con ylim\n",
    "\n",
    "x=np.linspace(0,10,10)\n",
    "x2=x*x\n",
    "x3=x**3\n",
    "plt.xlim(5,10)     # nuevos límites para el eje OX\n",
    "\n",
    "plt.plot(x, x,'b.',x, x2,'rd',x, x3,'g^')\n",
    "plt.gca().legend(('Lineal','Cuadrática','Cúbica'))\n",
    "\n",
    "plt.show()\n"
   ]
  },
  {
   "cell_type": "code",
   "execution_count": null,
   "metadata": {
    "id": "xAsr5uA3bwls"
   },
   "outputs": [],
   "source": [
    "import matplotlib.pyplot as plt\n",
    "# Gráficos múltiples\n",
    "\n",
    "plt.plot([4,8,13,17,20],[54, 67, 98, 78, 45])\n",
    "plt.show()\n",
    "plt.plot([4,8,13,17,20],[54, 67, 98, 78, 45],'g--d')# en color verde con guiones y punto diamante\n",
    "plt.show()\n",
    "plt.scatter([4,8,13,17,20],[54, 67, 98, 78, 45])# puntos\n",
    "plt.show()\n"
   ]
  },
  {
   "cell_type": "markdown",
   "metadata": {
    "id": "OJoLkoRibwls"
   },
   "source": [
    "\n",
    "Defina el vector u=$(5, 9 , 10 , -1)$\n",
    "\n",
    "Defina el vector v=$(-2 , 0 , 5 , 4)$\n",
    "\n",
    "Graficar los vectores $u$, $v$, $u+v$ \n",
    "\n",
    "\n"
   ]
  },
  {
   "cell_type": "code",
   "execution_count": null,
   "metadata": {
    "id": "1oikafaabwls"
   },
   "outputs": [],
   "source": [
    "import numpy as np\n",
    "import matplotlib.pyplot as plt\n",
    "\n",
    "#%matplotlib inline No abre una ventana para cada gráfica\n",
    "\n",
    "u=np.array([5,9,10,-1])\n",
    "v=np.array([-2,0,5,4])\n",
    "w=u+v\n",
    "\n",
    "#Para varios gráficos es útil usar la función subplots y luego axs\n",
    "fig, axs = plt.subplots(nrows=2, ncols=2, sharex=True)#Otra variable usada es f\n",
    "#f, axs = plt.subplots(2,2,figsize=(12,15))#ancho,altura\n",
    "fig.set_figwidth(12)\n",
    "fig.set_figheight(15)\n",
    "\n",
    "axs[0,0].plot(range(4),u)\n",
    "axs[0,0].set_title('vector u')\n",
    "axs[0,0].set_xlabel('x')\n",
    "axs[0,0].set_ylabel('y')\n",
    "\n",
    "axs[0,1].plot(range(4),v)\n",
    "axs[0,1].set_title('vector v')\n",
    "axs[0,1].set_xlabel('x')\n",
    "axs[0,1].set_ylabel('y')\n",
    "\n",
    "\n",
    "axs[1,0].plot(range(4),w)\n",
    "axs[1,0].set_title('vector suma')\n",
    "axs[1,0].set_xlabel('x')\n",
    "axs[1,0].set_ylabel('y')\n",
    "\n",
    "axs[1,1],plt.scatter(range(4),w)\n",
    "axs[1,1].set_title('vector suma')\n",
    "axs[1,1].set_xlabel('x')\n",
    "axs[1,1].set_ylabel('y')\n",
    "\n",
    "plt.show()\n",
    "print(u,v,w)"
   ]
  },
  {
   "cell_type": "code",
   "execution_count": null,
   "metadata": {
    "id": "qvnpSbmCbwls"
   },
   "outputs": [],
   "source": [
    "import numpy as np\n",
    "import matplotlib.pyplot as plt\n",
    "\n",
    "s=range(2,27,4)\n",
    "s=np.array(s)\n",
    "print(s)\n",
    "l=np.linspace(0.0,1.0,256)\n",
    "\n",
    "fig, axs = plt.subplots(nrows=1, ncols=2, sharex=True)\n",
    "fig.set_figwidth(12)\n",
    "fig.set_figheight(10)\n",
    "\n",
    "axs[0].scatter(range(7),s) #En el eje horizontal es range(7) porque tiene que coincidir la cantidad \n",
    "#de elementos\n",
    "axs[1].plot(l)\n",
    "plt.show()#Observar valores ejes horizontal y vertical\n"
   ]
  },
  {
   "cell_type": "code",
   "execution_count": null,
   "metadata": {
    "id": "TY_t0ns5bwls"
   },
   "outputs": [],
   "source": [
    "#Otra forma de mostrar múltiples gráficos\n",
    "\n",
    "import matplotlib.pyplot as plt\n",
    "import numpy as np\n",
    "\n",
    "x = np.linspace(0,4,1000)\n",
    "\n",
    "f = plt.figure(figsize=(10,3))\n",
    "\n",
    "ax = f.add_subplot(121)\n",
    "ax2 = f.add_subplot(122)\n",
    "\n",
    "ax.plot(x, np.sin(x))\n",
    "ax2.plot(x, np.cos(x), 'r:')\n",
    "\n",
    "plt.show()"
   ]
  },
  {
   "cell_type": "markdown",
   "metadata": {
    "id": "FUXwauJhbwls"
   },
   "source": [
    "## Otros ejemplos con arrays"
   ]
  },
  {
   "cell_type": "code",
   "execution_count": null,
   "metadata": {
    "id": "R8WNj_s6bwls",
    "outputId": "d5145c17-a6f2-40ae-92ee-4769fd7f46f9"
   },
   "outputs": [
    {
     "name": "stdout",
     "output_type": "stream",
     "text": [
      "Lista A: [[1, 2, 3, 4], [9, 10, 11, 12], [5, 6, 7, 8], [1, 1, 2, 2], [2, 3, 3, 4]]\n",
      "tipo:  <class 'list'> largo:  5\n",
      "\n",
      "Matriz Amat a partir de la lista A,\n",
      " Matriz A= [[ 1  2  3  4]\n",
      " [ 9 10 11 12]\n",
      " [ 5  6  7  8]\n",
      " [ 1  1  2  2]\n",
      " [ 2  3  3  4]] \n",
      " Dimensión de la matriz A: (5, 4)\n",
      "<class 'numpy.ndarray'> tamaño: 20 forma: (5, 4)\n",
      "máximo de matriz 12\n",
      "\n",
      "traspuesta de la matriz A=\n",
      "[[ 1  9  5  1  2]\n",
      " [ 2 10  6  1  3]\n",
      " [ 3 11  7  2  3]\n",
      " [ 4 12  8  2  4]]\n",
      "La dimensión de la transpuesta es (4, 5)\n",
      "\n"
     ]
    }
   ],
   "source": [
    "import numpy as np\n",
    "A=[[1, 2, 3, 4], [9, 10, 11, 12],[5, 6, 7, 8],[1,1,2,2],[2,3,3,4]] # Generamos lista\n",
    "print(\"Lista A:\", A)\n",
    "print(\"tipo: \",type(A), \"largo: \",len(A))\n",
    "print()\n",
    "\n",
    "Amat=np.array(A)\n",
    "print(\"Matriz Amat a partir de la lista A,\\n Matriz A=\", Amat, \"\\n Dimensión de la matriz A:\", Amat.shape)\n",
    "print(type(Amat), \"tamaño:\", Amat.size, \"forma:\", Amat.shape)\n",
    "m=Amat.max()\n",
    "print(\"máximo de matriz\",m)\n",
    "print()\n",
    "\n",
    "At=np.transpose(Amat) #transpuesta de la matriz\n",
    "print(\"traspuesta de la matriz A=\")\n",
    "print(At)\n",
    "print(\"La dimensión de la transpuesta es\",At.shape)\n",
    "print()"
   ]
  },
  {
   "cell_type": "code",
   "execution_count": null,
   "metadata": {
    "id": "OKtWhl5ibwlt",
    "outputId": "d9b862c6-7954-4e71-f696-8a281a061ab6"
   },
   "outputs": [
    {
     "name": "stdout",
     "output_type": "stream",
     "text": [
      "Lista B [1, 2, 3, 4, 5, 6, 7, 8, 9, 10, 11, 'hola']\n",
      "<class 'list'>\n",
      "\n",
      "Tomo C como los primeros 11 elementos de la lista B  [1, 2, 3, 4, 5, 6, 7, 8, 9, 10, 11]\n",
      "<class 'list'>\n",
      "\n",
      "Vector np.arange(11) es [ 0  1  2  3  4  5  6  7  8  9 10]\n",
      "<class 'numpy.ndarray'>\n",
      "\n",
      "Lista C convertida en vector [ 1  2  3  4  5  6  7  8  9 10 11]\n",
      "<class 'numpy.ndarray'>\n",
      "\n"
     ]
    }
   ],
   "source": [
    "B=[1, 2, 3, 4, 5, 6, 7, 8, 9, 10, 11, \"hola\"]\n",
    "print(\"Lista B\",B) #La lista puede tener elementos de distinto tipo\n",
    "print(type(B))\n",
    "print()\n",
    "\n",
    "C=B[0:11]\n",
    "print(\"Tomo C como los primeros 11 elementos de la lista B \",C)\n",
    "print(type(C))\n",
    "print()\n",
    "\n",
    "D=np.arange(11)\n",
    "print(\"Vector np.arange(11) es\",D) #con np.arange() generamos vectores\n",
    "print(type(D))\n",
    "print()\n",
    "\n",
    "E=np.array(C)\n",
    "print(\"Lista C convertida en vector\", E)\n",
    "print(type(E))\n",
    "print()"
   ]
  },
  {
   "cell_type": "markdown",
   "metadata": {
    "id": "bl3d5xA8bwlt"
   },
   "source": [
    "Dada la matriz A, del ejericio anterior u otra:\n",
    "\n",
    "Tomar el elemento de la fila 3 columna 2.\n",
    "\n",
    "Asignarle un nuevo valor.\n",
    "\n",
    "Generar una matriz con las dos primeras filas de la anterior utilizando el comando range, o corchetes.\n",
    "\n",
    "Generar distintas submatrices.\n"
   ]
  },
  {
   "cell_type": "code",
   "execution_count": null,
   "metadata": {
    "id": "9V6YmKk0bwlt",
    "outputId": "33c07b87-03f0-4986-8c45-026b05475ac1"
   },
   "outputs": [
    {
     "name": "stdout",
     "output_type": "stream",
     "text": [
      "[[ 1  2  3  4]\n",
      " [ 9 10 11 12]\n",
      " [ 5 15  7  8]\n",
      " [ 1  1  2  2]\n",
      " [ 2  3  3  4]]\n",
      "valor de la matriz Amat en el lugar [2,1] es  15\n",
      "\n",
      "[[ 1  2  3  4]\n",
      " [ 9 10 11 12]\n",
      " [ 5 15  7  8]\n",
      " [ 1  1  2  2]\n",
      " [ 2  3  3  4]]\n",
      "el nuevo valor de la matriz Amat en el lugar [2,1] es  15\n"
     ]
    }
   ],
   "source": [
    "#Elemento de una matriz\n",
    "print(Amat)\n",
    "print(\"valor de la matriz Amat en el lugar [2,1] es \", Amat[2,1]) #fila 2(3ra) columna 1 (2da)\n",
    "print()\n",
    "#cambiar un valor de A\n",
    "Amat[2][1]=15\n",
    "print(Amat)\n",
    "print(\"el nuevo valor de la matriz Amat en el lugar [2,1] es \", Amat[2,1]) #fila 2(3ra) columna 1 (2da)\n"
   ]
  },
  {
   "cell_type": "code",
   "execution_count": null,
   "metadata": {
    "id": "jjoIZfHEbwlt",
    "outputId": "d0f8c432-dbf5-49e1-9ce0-ba6b90c0a2df"
   },
   "outputs": [
    {
     "name": "stdout",
     "output_type": "stream",
     "text": [
      "\n",
      " Submatriz formada por las dos primeras filas separadas con A[range(0,2)]=\n",
      "[[ 1  2  3  4]\n",
      " [ 9 10 11 12]]\n",
      "\n",
      "\n",
      "Submatriz dos primeras filas separadas con A[0:2]=\n",
      "[[ 1  2  3  4]\n",
      " [ 9 10 11 12]] \n",
      "\n",
      "\n",
      "Submatriz primera fila obtenida con A[0:1]= [[1 2 3 4]] \n",
      "\n",
      "\n",
      "Submatriz primera fila obtenida con A[0]= [1 2 3 4] \n",
      "\n",
      "\n",
      "Submatriz formada por las 3 primeras filas y las dos primeras columnas Amat[0:3,0:2]\n",
      "[[ 1  2]\n",
      " [ 9 10]\n",
      " [ 5 15]] \n",
      "\n",
      "Submatriz formada por las Filas segunda y tercera, columnnas segunda y tercera Amat[1:3,1:3]\n",
      "[[10 11]\n",
      " [15  7]] \n",
      "\n",
      "\n",
      " atributo y función size de un arreglo con numpy, dos formas de obtenerlo M.size o np.size(M): 20 20\n"
     ]
    }
   ],
   "source": [
    "# Submatriz \n",
    "print(\"\\n Submatriz formada por las dos primeras filas separadas con A[range(0,2)]=\")\n",
    "print(Amat[range(0,2)]) \n",
    "print()\n",
    "\n",
    "print(\"\\nSubmatriz dos primeras filas separadas con A[0:2]=\")\n",
    "print(Amat[0:2],\"\\n\") #desde fila 0 (inclusive) hasta fila 2 exclusive\n",
    "\n",
    "print(\"\\nSubmatriz primera fila obtenida con A[0:1]=\",Amat[0:1],\"\\n\")\n",
    "\n",
    "print(\"\\nSubmatriz primera fila obtenida con A[0]=\",Amat[0],\"\\n\")\n",
    "\n",
    "print(\"\\nSubmatriz formada por las 3 primeras filas y las dos primeras columnas Amat[0:3,0:2]\")\n",
    "print(Amat[0:3,0:2],\"\\n\")#desde fila y col 0 (inclusive) hasta fila 3 y col 2 exclusive\n",
    "\n",
    "print(\"Submatriz formada por las Filas segunda y tercera, columnnas segunda y tercera Amat[1:3,1:3]\")\n",
    "print(Amat[1:3,1:3],\"\\n\") #desde fila y col 1 (inclusive) hasta fila y col 3 exclusive\n",
    "\n",
    "print(\"\\n atributo y función size de un arreglo con numpy, dos formas de obtenerlo M.size o np.size(M):\",\n",
    "      Amat.size,  np.size(Amat) )"
   ]
  },
  {
   "cell_type": "code",
   "execution_count": null,
   "metadata": {
    "id": "m6ofZMhnbwlt"
   },
   "outputs": [],
   "source": [
    "#Operaciones matriciales- Revisión\n",
    "print(np.shape(Amat),np.shape(At))\n",
    "print(\"Matriz=\\n'\",type(Amat))\n",
    "print(Amat)\n",
    "print()\n",
    "print(\"Transpuesta\\n\",type(At))\n",
    "print(At)\n",
    "print()\n",
    "print(\"Producto matriz por su traspuesta\")\n",
    "print(np.dot(Amat,At))  #\n",
    "print()\n",
    "      \n",
    "#Producto lugar a lugar/ punto a punto de arreglos numpy\n",
    "print(\"Producto matriz punto a punto por sí misma\")\n",
    "print(Amat*Amat) \n",
    "print()\n",
    "#Otra forma\n",
    "print(np.multiply(Amat,Amat)) #Producto punto a punto\n",
    "\n",
    "print()\n",
    "print(\"División punto a punto de la matriz por sí misma\")\n",
    "print(Amat/Amat)    #División punto a punto . Cuidado con la división por ceros!!!\n",
    "\n",
    "print()\n",
    "print(\"División de los elementos por 2\")\n",
    "print(Amat/2) #División punto a punto\n",
    "\n",
    "print()\n",
    "print(\"Sumo la matriz a sí misma\")\n",
    "print(Amat+Amat)     #Suma (lugar a lugar)\n",
    "\n",
    "print()\n",
    "print(\"Concateno lista\")\n",
    "print(A+A)     #Ojo!! concatenación de listas ya que A es lista\n",
    "\n",
    "print()\n",
    "print(\"Convierto la concatenación en arreglo\")\n",
    "print(np.array(A+A)) #concatenación de listas en arreglos!\n",
    "\n",
    "print()\n",
    "print(\"Sumo 3 punto a punto a la matriz original\")\n",
    "print(Amat+3) #Suma (lugar a lugar)\n",
    "\n",
    "print()\n",
    "print(\"Multiplico por 2 todos los elementos de la matriz original\")\n",
    "print(2*Amat) #Producto por escalar (lugar a lugar)"
   ]
  },
  {
   "cell_type": "markdown",
   "metadata": {
    "id": "UeRuby3gbwlu"
   },
   "source": [
    "### Algunas funciones numpy para arreglos - Alias np\n",
    "\n",
    "np.sum() np.mean() np.median() np.max() np.min() np.std() np.array() np.arange()\n",
    "\n",
    "np.float32() np.int32() np.concatenate() np.unique() #quita los elementos repetidos\n",
    "\n",
    "np.round()\n",
    "\n"
   ]
  }
 ],
 "metadata": {
  "colab": {
   "provenance": []
  },
  "kernelspec": {
   "display_name": "Python 3 (ipykernel)",
   "language": "python",
   "name": "python3"
  },
  "language_info": {
   "codemirror_mode": {
    "name": "ipython",
    "version": 3
   },
   "file_extension": ".py",
   "mimetype": "text/x-python",
   "name": "python",
   "nbconvert_exporter": "python",
   "pygments_lexer": "ipython3",
   "version": "3.10.9"
  }
 },
 "nbformat": 4,
 "nbformat_minor": 4
}
