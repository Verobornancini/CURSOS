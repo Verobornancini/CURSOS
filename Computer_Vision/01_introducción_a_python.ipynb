{
 "cells": [
  {
   "cell_type": "markdown",
   "metadata": {
    "id": "taVq85S6bwlL"
   },
   "source": [
    "## Curso-Taller: Aprendizaje Automático e Imágenes en Python "
   ]
  },
  {
   "cell_type": "markdown",
   "metadata": {
    "id": "A8JKIcqrbwlP"
   },
   "source": [
    "### Instrucciones Básicas con python"
   ]
  },
  {
   "cell_type": "code",
   "execution_count": 9,
   "metadata": {
    "id": "VqLgX9-mbwlP",
    "outputId": "31d53f05-b36c-4846-e1ce-da031644314f"
   },
   "outputs": [
    {
     "name": "stdin",
     "output_type": "stream",
     "text": [
      "Dígame un número:  5\n",
      "Dígame un número:  8\n",
      "Dígame un número:  2\n",
      "Dígame un número:  9\n"
     ]
    }
   ],
   "source": [
    "# Se pide el ingreso de un número por teclado \n",
    "numero = input(\"Dígame un número: \")\n",
    "\n",
    "# Se puede convertir los tipos de datos numéricos con las funciones int(), float(), complex()\n",
    "numero_int = int(input(\"Dígame un número: \"))\n",
    "numero_float = float(input(\"Dígame un número: \"))\n",
    "numero_complex = complex(input(\"Dígame un número: \"))"
   ]
  },
  {
   "cell_type": "code",
   "execution_count": 10,
   "metadata": {},
   "outputs": [
    {
     "name": "stdout",
     "output_type": "stream",
     "text": [
      "El nro ingresado es:  5 <class 'str'>\n",
      "El nro ingresado es:  8 <class 'int'> porque se lo forzó\n",
      "El nro ingresado es:  2.0 <class 'float'> porque se lo forzó\n",
      "El nro ingresado es:  (9+0j) <class 'complex'> porque se lo forzó\n"
     ]
    }
   ],
   "source": [
    "# Se muestra el número y el tipo de dato.\n",
    "# Si no forzamos el tipo de dato en el ingreso, lo toma como string (cadena de caracteres)\n",
    "print(\"El nro ingresado es: \",numero ,type(numero))\n",
    "print(\"El nro ingresado es: \",numero_int ,type(numero_int), \"porque se lo forzó\")\n",
    "print(\"El nro ingresado es: \",numero_float ,type(numero_float), \"porque se lo forzó\")\n",
    "print(\"El nro ingresado es: \",numero_complex ,type(numero_complex), \"porque se lo forzó\")"
   ]
  },
  {
   "cell_type": "code",
   "execution_count": 11,
   "metadata": {
    "id": "_fNiZ4pubwlW",
    "outputId": "a59fdbfd-f8f4-4f0c-f10d-22abba72b31d"
   },
   "outputs": [
    {
     "data": {
      "text/plain": [
       "9.0"
      ]
     },
     "execution_count": 11,
     "metadata": {},
     "output_type": "execute_result"
    }
   ],
   "source": [
    "# Obtención del valor absoluto de un número sin recurrir a librerías \n",
    "c = abs(numero_complex)\n",
    "c"
   ]
  },
  {
   "cell_type": "code",
   "execution_count": 12,
   "metadata": {},
   "outputs": [
    {
     "name": "stdin",
     "output_type": "stream",
     "text": [
      "Introduce una cadena de texto: hola mundo\n"
     ]
    },
    {
     "name": "stdout",
     "output_type": "stream",
     "text": [
      "La cadena que ingresó es:  hola mundo\n",
      "El tipo del dato ingresado es  <class 'str'>\n",
      "La cadena que ingresó es: \" hola mundo \"\n"
     ]
    }
   ],
   "source": [
    "# Recibe el texto ingresado y lo almacena en la variable cadena que es string\n",
    "cadena = input(\"Introduce una cadena de texto:\")\n",
    "\n",
    "print (\"La cadena que ingresó es: \",cadena)\n",
    "print(\"El tipo del dato ingresado es \",type(cadena))\n",
    "\n",
    "# Para mostrar comillas dobles, debo usar comillas simples que la contengan.\n",
    "print('La cadena que ingresó es: \"',cadena,'\"')"
   ]
  },
  {
   "cell_type": "markdown",
   "metadata": {
    "id": "x3BXaE_UbwlY"
   },
   "source": [
    "### Operaciones Aritméticas Elementales- Ejemplos"
   ]
  },
  {
   "cell_type": "markdown",
   "metadata": {
    "id": "9eRcDJtIbwlY"
   },
   "source": [
    "### Operaciones aritméticas +, -, *, / ** "
   ]
  },
  {
   "cell_type": "code",
   "execution_count": 15,
   "metadata": {
    "id": "r8zH1MFPbwlZ",
    "outputId": "d24c62f6-dd9e-4fc5-9ff4-16d93d045ca0"
   },
   "outputs": [
    {
     "name": "stdin",
     "output_type": "stream",
     "text": [
      "Dígame un número que llameremos x:  12\n"
     ]
    },
    {
     "name": "stdout",
     "output_type": "stream",
     "text": [
      "El nro ingresado es:  12.0\n",
      "Tipo de dato de x: <class 'float'>\n",
      "Operaciones\n",
      "x+1= 13.0\n",
      "x-1= 11.0\n",
      "x*2= 24.0\n",
      "x/2= 6.0\n",
      "x^2= 144.0\n",
      "x//5= 2.0\n",
      "x%5 2.0\n"
     ]
    }
   ],
   "source": [
    "#Ingresando un número por teclado\n",
    "x = float(input(\"Dígame un número que llameremos x: \"))\n",
    "print(\"El nro ingresado es: \",x)\n",
    "\n",
    "print(\"Tipo de dato de x:\", type(x))  \n",
    "print(\"Operaciones\")\n",
    "print(\"x+1=\",x+1)\n",
    "print(\"x-1=\",x-1)\n",
    "print(\"x*2=\",x*2)\n",
    "print(\"x/2=\",x/2)\n",
    "print(\"x^2=\",x**2) \n",
    "print(\"x//5=\", x//5)#Cociente entre enteros (devuelve la parte entera)\n",
    "print(\"x%5\", x%5)#Resto entre enteros (módulo)"
   ]
  },
  {
   "cell_type": "code",
   "execution_count": 19,
   "metadata": {},
   "outputs": [
    {
     "name": "stdout",
     "output_type": "stream",
     "text": [
      "Si quiero bajar de línea \n",
      "Permite continuar en la siguiente\n"
     ]
    }
   ],
   "source": [
    "print(\"Si quiero bajar de línea \\nPermite continuar en la siguiente\")"
   ]
  },
  {
   "cell_type": "markdown",
   "metadata": {
    "id": "1t3YOszBbwlb"
   },
   "source": [
    "### Datos booleanos (True y False)\n",
    "### Operaciones Lógicas AND, OR y NOT"
   ]
  },
  {
   "cell_type": "code",
   "execution_count": 22,
   "metadata": {
    "id": "nyyD5OFnbwlb"
   },
   "outputs": [
    {
     "name": "stdout",
     "output_type": "stream",
     "text": [
      "Valor de v1:  True , Su tipo es:  <class 'bool'>\n",
      "Valor de v2:  False , Su tipo es:  <class 'bool'>\n"
     ]
    }
   ],
   "source": [
    "# Tipo de dato booleano: 'bool'\n",
    "v1 = True # el valor verdadero\n",
    "v2 = False # el valor falso\n",
    "\n",
    "print(\"Valor de v1: \",v1, \", Su tipo es: \", type(v1))\n",
    "print(\"Valor de v2: \",v2, \", Su tipo es: \", type(v2))"
   ]
  },
  {
   "cell_type": "code",
   "execution_count": 23,
   "metadata": {},
   "outputs": [
    {
     "name": "stdout",
     "output_type": "stream",
     "text": [
      "v1 and v2=  False\n",
      "v1 or v2=  True\n",
      "v1 negado=  False\n"
     ]
    }
   ],
   "source": [
    "# Operaciones Lógicas\n",
    "print(\"v1 and v2= \", v1 and v2) # y lógico; imprime False\n",
    "print(\"v1 or v2= \",v1 or v2)  # o lógico; imprime True\n",
    "print(\"v1 negado= \",not v1)   # negación lógica, imprime False\n"
   ]
  },
  {
   "cell_type": "code",
   "execution_count": null,
   "metadata": {
    "id": "cB4fDBu7bwlc",
    "outputId": "e0924550-060f-4308-856a-7a9a0576fec0"
   },
   "outputs": [
    {
     "name": "stdout",
     "output_type": "stream",
     "text": [
      "3==5 False\n",
      "3 !=6 True\n",
      "3<5 True\n"
     ]
    }
   ],
   "source": [
    "# Comparaciones \n",
    "print (\"3==5\",3 == 5)  # Imprime False ya que son distintos\n",
    "print(\"3 !=6\",3 != 6)  # Imprime True ya que son distintos\n",
    "print(\"3<5\",3 < 5)  # Imprime True ya que 3 es menor que 5\n"
   ]
  },
  {
   "cell_type": "markdown",
   "metadata": {
    "id": "B8nc2fkUbwlc"
   },
   "source": [
    "\n",
    "### Estructura de Decisión: if"
   ]
  },
  {
   "cell_type": "code",
   "execution_count": 26,
   "metadata": {
    "id": "0W81VR2Dbwld"
   },
   "outputs": [
    {
     "name": "stdout",
     "output_type": "stream",
     "text": [
      "La persona tiene 25 años\n",
      "Es mayor de edad\n"
     ]
    }
   ],
   "source": [
    "# Ejemplo\n",
    "edad = 25\n",
    "\n",
    "print(\"La persona tiene\", edad, \"años\")\n",
    "if edad < 18:\n",
    "    print(\" Es menor de edad\") \n",
    "else:\n",
    "    print(\"Es mayor de edad\")"
   ]
  },
  {
   "cell_type": "markdown",
   "metadata": {
    "id": "JwL5-96fbwld"
   },
   "source": [
    "### Operadores para comparar:\n",
    "\n",
    "#### == ;    !=  ;   <   ;    >  ;     <=   ;     >="
   ]
  },
  {
   "cell_type": "code",
   "execution_count": 28,
   "metadata": {
    "id": "9UFPGH96bwle",
    "outputId": "7c522a89-5c02-426a-d32d-0ea1f1e87545"
   },
   "outputs": [
    {
     "name": "stdin",
     "output_type": "stream",
     "text": [
      "Ingrese nro:  4\n",
      "Ingrese nro:  7\n"
     ]
    },
    {
     "name": "stdout",
     "output_type": "stream",
     "text": [
      "\n",
      "Los números ingresados son diferentes\n"
     ]
    }
   ],
   "source": [
    "# Comparaciones\n",
    "nro1=int(input('Ingrese nro: '))\n",
    "nro2=int(input('Ingrese nro: '))\n",
    "\n",
    "if nro1==nro2:\n",
    "    print('\\nLos números ingresados son iguales')\n",
    "else:\n",
    "    print('\\nLos números ingresados son diferentes')"
   ]
  },
  {
   "cell_type": "code",
   "execution_count": 29,
   "metadata": {
    "id": "cH5ini1-bwle"
   },
   "outputs": [
    {
     "name": "stdin",
     "output_type": "stream",
     "text": [
      "Ingrese nro:  4\n",
      "Ingrese nro:  5\n"
     ]
    },
    {
     "name": "stdout",
     "output_type": "stream",
     "text": [
      "\n",
      "Los números ingresados son distintos\n"
     ]
    }
   ],
   "source": [
    "# Comparaciones\n",
    "nro1=int(input('Ingrese nro: '))\n",
    "nro2=int(input('Ingrese nro: '))\n",
    "if nro1!=nro2:\n",
    "    print('\\nLos números ingresados son distintos')\n",
    "else:\n",
    "    print('\\nLos números ingresados son iguales')"
   ]
  },
  {
   "cell_type": "code",
   "execution_count": 30,
   "metadata": {
    "id": "SmPCjTfmbwle"
   },
   "outputs": [
    {
     "name": "stdin",
     "output_type": "stream",
     "text": [
      "Ingrese nro:  7\n",
      "Ingrese nro:  8\n"
     ]
    },
    {
     "name": "stdout",
     "output_type": "stream",
     "text": [
      "\n",
      "El primer número es menor que el segundo\n"
     ]
    }
   ],
   "source": [
    "# Comparaciones\n",
    "nro1=int(input('Ingrese nro: '))\n",
    "nro2=int(input('Ingrese nro: '))\n",
    "if nro1>=nro2:\n",
    "    print('\\nEl primer número es mayor o igual que el segundo')\n",
    "else:\n",
    "    print('\\nEl primer número es menor que el segundo')"
   ]
  },
  {
   "cell_type": "markdown",
   "metadata": {
    "id": "tWJRxnHObwle"
   },
   "source": [
    "### Listas\n",
    "#### Elementos de una lista: se colocan entre corchetes, separados por comas\n"
   ]
  },
  {
   "cell_type": "code",
   "execution_count": 31,
   "metadata": {
    "id": "elTx3yeVbwle",
    "outputId": "49a914c0-25df-4000-b1a6-673fd599a2e0"
   },
   "outputs": [
    {
     "name": "stdout",
     "output_type": "stream",
     "text": [
      "lista=  [1, 3, 5] su tipo es  <class 'list'>\n",
      "1\n"
     ]
    }
   ],
   "source": [
    "lista=[1,3,5]\n",
    "print(\"lista= \",lista, \"su tipo es \", type(lista))\n",
    "\n",
    "# acceso a un elemento de la lista\n",
    "print(lista[0])"
   ]
  },
  {
   "cell_type": "code",
   "execution_count": 34,
   "metadata": {
    "id": "H6HN2tUobwlf",
    "outputId": "8fbe98ca-00d2-4fb8-be4c-988749ea6660"
   },
   "outputs": [
    {
     "name": "stdout",
     "output_type": "stream",
     "text": [
      "Old List:  ['gato', 0, 6.7]\n",
      "New List:  ['gato siamés', 0, 6.7, 'perro']\n"
     ]
    }
   ],
   "source": [
    "lista_uno = ['gato', 0, 6.7]\n",
    "\n",
    "# copio lista con la función copy()\n",
    "lista_dos = lista_uno.copy()\n",
    "\n",
    "# Agrego nuevos elementos a la lista con la función append()\n",
    "lista_dos.append('perro')\n",
    "lista_dos[0]='gato siamés'\n",
    "\n",
    "print('Old List: ', lista_uno)\n",
    "print('New List: ', lista_dos)"
   ]
  },
  {
   "cell_type": "markdown",
   "metadata": {
    "id": "i_bpTlj4bwlf"
   },
   "source": [
    "### Operador in y not in"
   ]
  },
  {
   "cell_type": "code",
   "execution_count": 37,
   "metadata": {
    "id": "nlCpPTp7bwlf",
    "outputId": "852b51f0-9a31-4820-cd63-2eb4af48aed1"
   },
   "outputs": [
    {
     "name": "stdout",
     "output_type": "stream",
     "text": [
      "False\n",
      "True\n"
     ]
    }
   ],
   "source": [
    "# Definimos una lista\n",
    "lista=[1,3,5]\n",
    "\n",
    "# Averiguamos si un elemento está en esa lista \n",
    "var1 = 32\n",
    "print(var1 in lista)\n",
    "\n",
    "# Averiguamos si un elemento está en esa lista \n",
    "var2 = 32\n",
    "print(var2 not in lista)"
   ]
  },
  {
   "cell_type": "code",
   "execution_count": 39,
   "metadata": {
    "id": "6JedaPgkbwlg"
   },
   "outputs": [
    {
     "name": "stdout",
     "output_type": "stream",
     "text": [
      "[3, 1, 2]\n",
      "2\n",
      "2\n",
      "[3, 1, 'foo']\n",
      "[3, 1, 'foo', 'bar']\n",
      "bar [3, 1, 'foo']\n",
      "[3, 1, 'foo', 3, 1, 'foo']\n"
     ]
    }
   ],
   "source": [
    "xs = [3, 1, 2]    # Crea una lista. Los elementos se colocan entre corchetes, separados por coma.\n",
    "print(xs)         # Muestra \"[3, 1, 2]\"\n",
    "print(xs[2])      # Muestra \"2\"\n",
    "print(xs[-1])     # Indice negativo: implica que se cuenta desde el final de la lista; muestra \"2\"\n",
    "xs[2] = 'foo'     # Cambia el elemento final. Ahora la lista contiene elementos de distinto tipo\n",
    "print(xs)         # Muestra \"[3, 1, 'foo']\"\n",
    "xs.append('bar')  # Agrego un nuevo elemento al final\n",
    "print(xs)         # Muestra \"[3, 1, 'foo', 'bar']\"\n",
    "x = xs.pop()      # Tomo el último elemento de la lista\n",
    "print(x, xs)      # Muestro el elemento que quitamos y la lista que quedó: \"bar [3, 1, 'foo']\"\n",
    "concatenada=xs+xs #El signo + concatena listas, no es suma\n",
    "print(concatenada)"
   ]
  },
  {
   "cell_type": "markdown",
   "metadata": {
    "id": "qRCQGGUPbwlg"
   },
   "source": [
    "### Estructuras de Repetición : for"
   ]
  },
  {
   "cell_type": "code",
   "execution_count": null,
   "metadata": {
    "id": "79GHHwTbbwlg",
    "outputId": "07861966-ef1e-4142-9c56-27beb608ec2d"
   },
   "outputs": [
    {
     "name": "stdout",
     "output_type": "stream",
     "text": [
      "esto se imprime en cada ciclo porque está indexado\n",
      "esto se imprime en cada ciclo porque está indexado\n",
      "esto se imprime en cada ciclo porque está indexado\n",
      "esto se imprime en cada ciclo porque está indexado\n",
      "esto se imprime fuera del ciclo\n",
      "La lista es [4, 8, 12, 18]\n",
      "La suma de los números de la lista es:\n",
      "42\n"
     ]
    }
   ],
   "source": [
    "#Ejemplo for en lista\n",
    "#Permite recorrer todos los elementos de una lista\n",
    "#En el mismo for se le pone nombre a la variable que almacena cada elemento\n",
    "#En este caso la lista se llama mis_numeros y cada elemento numero\n",
    "\n",
    "#El objetivo del código es sumar todos los elementos de la lista\n",
    "#El acumulador debe inicializarse en 0\n",
    "#De lo contrario guardará el valor en caso de hacerse otras corridas\n",
    "\n",
    "suma=0\n",
    "mis_numeros=[4,8,12,18] \n",
    "#la variable numero designará a los elementos de la lista\n",
    "for numero in mis_numeros:\n",
    "    suma=suma+numero\n",
    "    print(\"esto se imprime en cada ciclo porque está indexado\")\n",
    "\n",
    "print(\"esto se imprime fuera del ciclo\")\n",
    "print('La lista es',mis_numeros)\n",
    "print(\"La suma de los números de la lista es:\")\n",
    "print(suma)\n"
   ]
  },
  {
   "cell_type": "code",
   "execution_count": null,
   "metadata": {
    "id": "1DB8FMChbwlg",
    "outputId": "9f541c77-cbb6-415a-d7de-916b1fe4e8a4"
   },
   "outputs": [
    {
     "name": "stdout",
     "output_type": "stream",
     "text": [
      "Un for para range de 0 a 3\n",
      "0\n",
      "1\n",
      "2\n",
      "3\n",
      "Un for para range de 2 a 5:\n",
      "2\n",
      "3\n",
      "4\n",
      "5\n",
      "Un for para range de 2 a 11, salto 3\n",
      "2\n",
      "5\n",
      "8\n"
     ]
    }
   ],
   "source": [
    "#For con función range\n",
    "#Función range:\n",
    "    #con un parámetro, este indica la cantidad de elementos. Empieza en 0, salto implícito 1.\n",
    "    #con dos parámetros, el primero indica el principio, el otro el final que es abierto (no lo incluye).\n",
    "    #con tres parámetros, indican principio, el final abierto, el paso o salto.\n",
    "#En los casos con dos o tres parámetros el intervalo es abierto a derecha.\n",
    "#Es decir que el segundo parámetro que indica el final abierto no pertenecerá a la lista\n",
    "\n",
    "print(\"Un for para range de 0 a 3\")\n",
    "for i in range(4):\n",
    "    print(i)\n",
    "#print()    \n",
    "\n",
    "print(\"Un for para range de 2 a 5:\")\n",
    "for j in range(2,6):\n",
    "    print(j)\n",
    "#print()\n",
    "\n",
    "print(\"Un for para range de 2 a 11, salto 3\")# Observar que no incluirá el 11\n",
    "for z in range(2,11,3):\n",
    "    print(z)\n",
    "  \n"
   ]
  },
  {
   "cell_type": "markdown",
   "metadata": {
    "id": "mm10iNKibwlh"
   },
   "source": [
    "### **Estructura de Repetición**\n",
    "\n",
    "\n",
    "** For con enumerate **\n"
   ]
  },
  {
   "cell_type": "code",
   "execution_count": 40,
   "metadata": {
    "id": "iDfldSd5bwlh",
    "outputId": "a71b8081-fab6-4377-ce59-afc9558ce68c"
   },
   "outputs": [
    {
     "name": "stdout",
     "output_type": "stream",
     "text": [
      "1 manzana\n",
      "2 bananas\n",
      "3 uvas\n",
      "4 peras\n"
     ]
    }
   ],
   "source": [
    "mi_lista = ['manzana', 'bananas', 'uvas', 'peras']\n",
    "# la primera variable (c) es el contador\n",
    "# la segunda variable (valor) es precisamente el valor almacenado en cada posición\n",
    "for c, valor in enumerate(mi_lista, 1):\n",
    "    print(c, valor)"
   ]
  },
  {
   "cell_type": "markdown",
   "metadata": {
    "id": "tAW2siMCbwli"
   },
   "source": [
    "### Estructuras de Repetición - While"
   ]
  },
  {
   "cell_type": "markdown",
   "metadata": {
    "id": "DyyaDKHYbwlj"
   },
   "source": [
    "### While controlado por Evento"
   ]
  },
  {
   "cell_type": "code",
   "execution_count": null,
   "metadata": {
    "id": "1qXhtGaubwlj",
    "outputId": "ae9953cc-b4aa-43a1-a330-aa5ac02b7f11"
   },
   "outputs": [
    {
     "name": "stdout",
     "output_type": "stream",
     "text": [
      "Ejemplo: cálculo del promedio de números ingresados-Cortar el ingreso de datos ingresando -1:\n",
      "\n",
      "Introduzca valor numérico (-1 para salir): \n",
      "4\n",
      "Introduzca valor numerico (-1 para salir): \n",
      "4\n",
      "Introduzca valor numerico (-1 para salir): \n",
      "4\n",
      "Introduzca valor numerico (-1 para salir): \n",
      "4\n",
      "Introduzca valor numerico (-1 para salir): \n",
      "3\n",
      "Introduzca valor numerico (-1 para salir): \n",
      "2\n",
      "Introduzca valor numerico (-1 para salir): \n",
      "-1\n",
      "Promedio de valores ingresados =  3.5\n",
      "Cantidad de valores ingresados=  6\n"
     ]
    }
   ],
   "source": [
    "#En el control por evento hay un suceso que interrumpe el bucle\n",
    "#En el ejemplo siguiente se interrumpe el ingreso de datos al tipear -1\n",
    "\n",
    "#Utilizar \"kernel restart\", si es necesario\n",
    "\n",
    "print (\"Ejemplo: cálculo del promedio de números ingresados-Cortar el ingreso de datos ingresando -1:\\n\")\n",
    "total = 0\n",
    "contador = 0\n",
    "print(\"Introduzca valor numérico (-1 para salir): \")\n",
    "valor = int(input())\n",
    "while valor != -1:\n",
    "    total = total + valor\n",
    "    contador = contador + 1\n",
    "    print (\"Introduzca valor numerico (-1 para salir): \")\n",
    "    valor = int(input())\n",
    "if contador>0:\n",
    "    promedio = total / contador\n",
    "    print(\"Promedio de valores ingresados = \", promedio)\n",
    "    print(\"Cantidad de valores ingresados= \",contador)\n",
    "else:\n",
    "    print(\"No se ingresaron números\")\n"
   ]
  },
  {
   "cell_type": "markdown",
   "metadata": {
    "id": "gKV8Yh-cbwlj"
   },
   "source": [
    "### While controlado por Conteo"
   ]
  },
  {
   "cell_type": "code",
   "execution_count": null,
   "metadata": {
    "id": "v57Iu2mdbwlj",
    "outputId": "51899adc-b922-481b-c0c6-08a6771a04e6"
   },
   "outputs": [
    {
     "name": "stdout",
     "output_type": "stream",
     "text": [
      "Ingrese dato\n",
      "1\n",
      "Ingrese dato\n",
      "9\n",
      "Ingrese dato\n",
      "9\n",
      "Ingrese dato\n",
      "6\n",
      "Suma 25\n",
      "Ingrese dato5\n",
      "Ingrese dato5\n",
      "Ingrese dato3\n",
      "Ingrese dato3\n",
      "\n",
      "Suma 16\n"
     ]
    }
   ],
   "source": [
    "#import os\n",
    "#os.system('cls')\n",
    "\n",
    "#Control por contador descendente\n",
    "contador = 4\n",
    "suma=0\n",
    "while contador > 0:\n",
    "    print(\"Ingrese dato\")\n",
    "    nro=int(input())\n",
    "    suma=suma+nro\n",
    "    contador=contador-1\n",
    "print ('Suma', suma)\n",
    "\n",
    "#Control por contador ascendente\n",
    "contador2=0\n",
    "suma2=0\n",
    "mensaje=\"Ingrese dato\"\n",
    "while contador2<4:\n",
    "    numero=int(input(mensaje))\n",
    "    #Esta variante permite que se muestre el mensaje cada vez que se ingresa dato\n",
    "    suma2=suma2+numero\n",
    "    contador2=contador2+1\n",
    "    \n",
    "print('\\nSuma',suma2)\n",
    "    "
   ]
  },
  {
   "cell_type": "markdown",
   "metadata": {
    "id": "DoGHBBuBbwlj"
   },
   "source": [
    "### Uso de break y continue"
   ]
  },
  {
   "cell_type": "code",
   "execution_count": null,
   "metadata": {
    "id": "SdPALicmbwlj",
    "outputId": "d6f5ef7f-6ad8-4511-8863-8e1588e705d8"
   },
   "outputs": [
    {
     "name": "stdout",
     "output_type": "stream",
     "text": [
      "Valor actual de la variable: 9\n",
      "Valor actual de la variable: 8\n",
      "Valor actual de la variable: 7\n",
      "Valor actual de la variable: 6\n",
      "Valor actual de la variable: 5\n",
      "Valor actual de la variable: 4\n",
      "Valor actual de la variable: 1\n"
     ]
    }
   ],
   "source": [
    "# Ejemplo\n",
    "# While con uso de continue\n",
    "variable = 10\n",
    "while variable > 1:              \n",
    "   variable = variable -1\n",
    "   if variable == 3:\n",
    "        variable=2\n",
    "        continue\n",
    "   print ('Valor actual de la variable:', variable)\n"
   ]
  },
  {
   "cell_type": "code",
   "execution_count": null,
   "metadata": {
    "id": "iMGm2yKUbwlj",
    "outputId": "2dbaec6a-e929-42b7-d366-273a8c4231db"
   },
   "outputs": [
    {
     "name": "stdout",
     "output_type": "stream",
     "text": [
      "Valor actual de la variable: 10\n",
      "Valor actual de la variable: 9\n",
      "Valor actual de la variable: 8\n",
      "Valor actual de la variable: 7\n",
      "Valor actual de la variable: 6\n"
     ]
    }
   ],
   "source": [
    "#Ejemplo\n",
    "# While - Uso de Break\n",
    "\n",
    "variable = 10\n",
    "while True:\n",
    "    print ('Valor actual de la variable:', variable)\n",
    "    variable = variable -1\n",
    "    if variable == 5:\n",
    "        break\n"
   ]
  },
  {
   "cell_type": "markdown",
   "metadata": {
    "id": "gUE89-Lqbwlk"
   },
   "source": [
    "### Uso de else dentro de un while"
   ]
  },
  {
   "cell_type": "code",
   "execution_count": null,
   "metadata": {
    "id": "JHfGJMZabwlk"
   },
   "outputs": [],
   "source": [
    "#Puede usarse while con else\n",
    "promedio, total, contar = 0.0, 0, 0\n",
    "\n",
    "mensaje = \"Introduzca la nota de un estudiante (-1 para salir): \"\n",
    "\n",
    "grado = int(input(mensaje)) #permite que se muestre en pantalla el mensaje cada vez que ingresamos nota\n",
    "\n",
    "while grado != -1:\n",
    "    total = total + grado\n",
    "    contar += 1\n",
    "    grado = int(input(mensaje))\n",
    "else:\n",
    "    promedio = total / contar\n",
    "    print (\"Promedio de notas del grado escolar: \" + str(promedio))\n",
    "    #convertir en str nos permite concatenar con un + el mensaje y la nota\n",
    "\n",
    "#Respecto al ejemplo anterior permite que lo que se hace al finalizar el bucle esté\n",
    "#en el mismo bloque de código"
   ]
  },
  {
   "cell_type": "markdown",
   "metadata": {
    "id": "lLhpYDqcbwlk"
   },
   "source": [
    "### Funciones Definidas por el Usuario"
   ]
  },
  {
   "cell_type": "code",
   "execution_count": 42,
   "metadata": {
    "id": "pF3v4LzPbwlk"
   },
   "outputs": [
    {
     "name": "stdout",
     "output_type": "stream",
     "text": [
      "La suma es\n",
      "7\n"
     ]
    }
   ],
   "source": [
    "# Las funciones se definen con la palabra clave def\n",
    "def sumar(a,b):\n",
    "    return a+b\n",
    "\n",
    "#Llamada a la función\n",
    "c=sumar(2,5)\n",
    "print(\"La suma es\")\n",
    "print(c)"
   ]
  },
  {
   "cell_type": "code",
   "execution_count": 43,
   "metadata": {
    "id": "GYpL1nEKbwll"
   },
   "outputs": [
    {
     "name": "stdout",
     "output_type": "stream",
     "text": [
      "negativo\n",
      "cero\n",
      "positivo\n"
     ]
    }
   ],
   "source": [
    "# Definir y usar una función que dé el signo de un número\n",
    "def signo(x):\n",
    "    if x > 0:\n",
    "        return 'positivo'\n",
    "    elif x < 0:\n",
    "        return 'negativo'\n",
    "    else:\n",
    "        return 'cero'\n",
    "    \n",
    "for x in [-1, 0, 1]:\n",
    "    print(signo(x))"
   ]
  }
 ],
 "metadata": {
  "colab": {
   "provenance": []
  },
  "kernelspec": {
   "display_name": "Python 3 (ipykernel)",
   "language": "python",
   "name": "python3"
  },
  "language_info": {
   "codemirror_mode": {
    "name": "ipython",
    "version": 3
   },
   "file_extension": ".py",
   "mimetype": "text/x-python",
   "name": "python",
   "nbconvert_exporter": "python",
   "pygments_lexer": "ipython3",
   "version": "3.10.9"
  }
 },
 "nbformat": 4,
 "nbformat_minor": 4
}
