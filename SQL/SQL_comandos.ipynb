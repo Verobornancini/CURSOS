{
 "cells": [
  {
   "cell_type": "markdown",
   "metadata": {},
   "source": [
    "# SQL"
   ]
  },
  {
   "cell_type": "markdown",
   "metadata": {},
   "source": [
    "**A)** tipos de datos: \n",
    "* char(texto de tamaño fijo), \n",
    "* varchar(texto de tamaño variable), \n",
    "* int(numerico entero),\n",
    "* decimal(5,2) -> los parámetros indican: 5 numeros en total, 2 números son decimales\n",
    "* Booleanos -> 0/1\n",
    "* date \n",
    "* datetime\n",
    "\n",
    "**B)** operadores:\n",
    "* AND, OR, BETWEEN, LIKE, IN"
   ]
  },
  {
   "cell_type": "markdown",
   "metadata": {},
   "source": [
    "## Bloque 1: Pasos iniciales\n",
    "\n",
    "* **1)** Creación de bases de datos y tablas   \n",
    "> CREATE DATABASE nueva_base;   \n",
    "> CREATE TABLE nueva_tabla (    \n",
    "nombre char(5) primary key,      \n",
    "atributo1 tipo característica,     \n",
    "atributo2 tipo característica,    \n",
    "atributo3 tipo característica,     \n",
    "> PRIMARY KEY (atributo1),     \n",
    "> FOREGIN KEY (atributo2) REFERENCE tabla_b (atributoX));      \n",
    "\n",
    "* **2)** Listar bases de datos y tablas creadas   \n",
    "> SHOW DATABASES;    \n",
    "> SHOW TABLES;\n",
    "\n",
    "* **3)** Acceso a bases de datos y tablas\n",
    "> USE nueva_base;    \n",
    "> USE TABLE nueva_tabla;     \n",
    "\n",
    "* **4)** Pedir información de la tabla\n",
    "> DESCRIBE nombre_tabla;\n",
    "\n",
    "* **5)** Insertar nueva información en la tabla (indico las columnas y luego los valores)\n",
    "> INSERT INTO nombre_tabla (edad, nombre, sexo) VALUES (33, Verónica, Femenino);\n",
    "\n",
    "* **6)** Consultar información de una tabla  \n",
    "> SELECT columna FROM nombre_tabla;   \n",
    "> SELECT * FROM nombre_tabla;\n",
    "\n",
    "* **7)** Filtrar información de una tabla    \n",
    "Ordenes -> ORDER BY, GRIOUP BY, LIMIT(cantidad de resgistros que quiero obtener), OFSET (desde que registo comienzo)\n",
    "> SELECT * FROM nombre_tabla WHERE columna=valor;    \n",
    "> SLECT * FROM nombre_tabla ORDER BY columna LIMIT 5 OFSET 30"
   ]
  },
  {
   "cell_type": "markdown",
   "metadata": {},
   "source": [
    "## Bloque 2: Modificar una tabla \n",
    "\n",
    "* **1)** Agregar columnas\n",
    "> ALTER TABLE nombre_tabla ADD COLUMNS email varchar(30);\n",
    "> ALTER TABLE nombre_tabla ADD COLUMNS edad numeric(2);\n",
    "\n",
    "* **2)** Modificar nombre de columna\n",
    "> ALTER TABLE nombre_tabla RENAME email TO e-mail\n",
    "\n",
    "* **3)** Actualizar los valores de un registro ó fila\n",
    "> UPDATE nombre_tabla SET atributo1= ---  WHERE atributo2=\"---\"\n"
   ]
  },
  {
   "cell_type": "markdown",
   "metadata": {},
   "source": [
    "### Comandos en SQLite (no finalizan en \";\" )\n",
    "* **1)** Abro la tabla o una base de datos   \n",
    "> .open nombre_tabla   \n",
    "* **2)** Salir de SQLite\n",
    "> .exit\n",
    "* **3)** Iniciar modo de vista en columnas   \n",
    "> .mode column\n",
    "* **4)**  Mostrar también las cabeceras   \n",
    "> .header on\n",
    "* **4)**  Ver el esquema o estructura de una tabla   \n",
    "> .schema nombre_tabla"
   ]
  },
  {
   "cell_type": "code",
   "execution_count": null,
   "metadata": {},
   "outputs": [],
   "source": []
  }
 ],
 "metadata": {
  "kernelspec": {
   "display_name": "Python 3",
   "language": "python",
   "name": "python3"
  },
  "language_info": {
   "codemirror_mode": {
    "name": "ipython",
    "version": 3
   },
   "file_extension": ".py",
   "mimetype": "text/x-python",
   "name": "python",
   "nbconvert_exporter": "python",
   "pygments_lexer": "ipython3",
   "version": "3.8.6"
  }
 },
 "nbformat": 4,
 "nbformat_minor": 4
}
